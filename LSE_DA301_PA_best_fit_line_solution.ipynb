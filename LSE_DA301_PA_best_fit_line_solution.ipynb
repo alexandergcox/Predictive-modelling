{
 "cells": [
  {
   "cell_type": "markdown",
   "id": "94199fa3",
   "metadata": {},
   "source": [
    "### LSE Data Analytics Online Career Accelerator \n",
    "# Course 301: Advanced Analytics for Organisational Impact"
   ]
  },
  {
   "cell_type": "markdown",
   "id": "46fcc342",
   "metadata": {},
   "source": [
    "## Practical activity: Finding the best fit line"
   ]
  },
  {
   "cell_type": "markdown",
   "id": "26969258",
   "metadata": {},
   "source": [
    "**This is the solution to the activity.**\n",
    "\n",
    "The best fit line is the line that best describes the relationship between variables in a linear regression model. In this activity, you will use Python to find the line of best fit using data from e-commerce companies. \n",
    "\n",
    "You’ve been hired by a venture capitalist firm to evaluate e-commerce investment opportunities. They have provided you with a data set of existing companies they see as potential future investments. They need you to predict the future median value of the business using simple linear regression analysis.\n",
    "\n",
    "Using historical data, predict the median value of the seller's business based on the average number of items sold. "
   ]
  },
  {
   "cell_type": "markdown",
   "id": "e0ec3ed0",
   "metadata": {},
   "source": [
    "## 1. Prepare your workstation"
   ]
  },
  {
   "cell_type": "code",
   "execution_count": null,
   "id": "19b7bc2c",
   "metadata": {},
   "outputs": [],
   "source": [
    "# Import all the necessary packages.\n",
    "import numpy as np\n",
    "import pandas as pd\n",
    "import statsmodels.api as sm\n",
    "import sklearn\n",
    "import matplotlib.pyplot as plt\n",
    "\n",
    "from sklearn import datasets \n",
    "from sklearn import linear_model\n",
    "from sklearn import metrics\n",
    "from sklearn.model_selection import train_test_split\n",
    "from sklearn.linear_model import LinearRegression"
   ]
  },
  {
   "cell_type": "markdown",
   "id": "8a657692",
   "metadata": {},
   "source": [
    "## 2. Import the data set"
   ]
  },
  {
   "cell_type": "code",
   "execution_count": null,
   "id": "78df595c",
   "metadata": {},
   "outputs": [],
   "source": [
    "# Import the data set.\n",
    "df = pd.read_csv('ecommerce_data.csv')\n",
    "\n",
    "# View the DataFrame.\n",
    "df.head()"
   ]
  },
  {
   "cell_type": "code",
   "execution_count": null,
   "id": "c60d6908",
   "metadata": {},
   "outputs": [],
   "source": [
    "# Replace the missing values with 0.\n",
    "df.fillna(0, inplace=True)\n",
    "\n",
    "# Determine the number of missing values.\n",
    "df.isna().sum()"
   ]
  },
  {
   "cell_type": "code",
   "execution_count": null,
   "id": "3674336e",
   "metadata": {},
   "outputs": [],
   "source": [
    "# View the metadata.\n",
    "df.info()"
   ]
  },
  {
   "cell_type": "markdown",
   "id": "a2b6ccab",
   "metadata": {},
   "source": [
    "## 3. Define the variables"
   ]
  },
  {
   "cell_type": "code",
   "execution_count": null,
   "id": "d95605e9",
   "metadata": {},
   "outputs": [],
   "source": [
    "# Choose your variables.\n",
    "X = df['avg_no_it'].values.reshape(-1, 1) \n",
    "y = df['Median_s'].values.reshape(-1, 1) "
   ]
  },
  {
   "cell_type": "markdown",
   "id": "f90d0c31",
   "metadata": {},
   "source": [
    "## 4. Split the data set"
   ]
  },
  {
   "cell_type": "code",
   "execution_count": null,
   "id": "d42e4559",
   "metadata": {},
   "outputs": [],
   "source": [
    "# Split the data into training = 0.7 and testing = 0.3 subsets.\n",
    "x_train, x_test, y_train, y_test = train_test_split(X, y,\n",
    "                                                    test_size=0.3,\n",
    "                                                    random_state=42)"
   ]
  },
  {
   "cell_type": "markdown",
   "id": "971e7c36",
   "metadata": {},
   "source": [
    "## 5. Run a linear equation"
   ]
  },
  {
   "cell_type": "code",
   "execution_count": null,
   "id": "99ef8409",
   "metadata": {},
   "outputs": [],
   "source": [
    "# Run linear regression model.\n",
    "lr = LinearRegression()\n",
    "\n",
    "# Fit the model on the training data.\n",
    "lr.fit(x_train, y_train)\n",
    "\n",
    "# Predict is used for predicting on the x_test.\n",
    "y_pred = lr.predict(x_test)\n",
    "\n",
    "# View the output.\n",
    "y_pred"
   ]
  },
  {
   "cell_type": "markdown",
   "id": "31d7d744",
   "metadata": {},
   "source": [
    "## 6. Plot the regression"
   ]
  },
  {
   "cell_type": "code",
   "execution_count": null,
   "id": "0380b297",
   "metadata": {},
   "outputs": [],
   "source": [
    "# Visualise the training set.\n",
    "plt.scatter(x_train, y_train, color = 'red')\n",
    "plt.plot(x_train, lr.predict(x_train), color = 'green')\n",
    "plt.title(\"Avg no of items vs Median of Seller Business(Training Data)\")\n",
    "plt.xlabel(\"Avg no of items\")\n",
    "plt.ylabel(\"Median of Seller Business\")\n",
    "\n",
    "plt.show()"
   ]
  },
  {
   "cell_type": "code",
   "execution_count": null,
   "id": "7846a2bc",
   "metadata": {},
   "outputs": [],
   "source": [
    "# Visualise the test set.\n",
    "plt.scatter(x_test, y_test, color = 'red')\n",
    "plt.plot(x_train, lr.predict(x_train), color = 'green')\n",
    "plt.title(\"Avg no of items vs Median of Seller Business(Testing Data)\")\n",
    "plt.xlabel(\"Avg no of items\")\n",
    "plt.ylabel(\"Median of Seller Business\")\n",
    "\n",
    "plt.show()"
   ]
  },
  {
   "cell_type": "markdown",
   "id": "9b4e7c4d",
   "metadata": {},
   "source": [
    "# 7. Print the values"
   ]
  },
  {
   "cell_type": "code",
   "execution_count": null,
   "id": "ce1b2e71",
   "metadata": {},
   "outputs": [],
   "source": [
    "# Print the R-squared, intercept and coefficient value.\n",
    "print(\"R-squared value: \", lr.score(x_test, y_test))\n",
    "\n",
    "print(\"Intercept value: \", lr.intercept_)\n",
    "print(\"Coefficient value: \", lr.coef_)"
   ]
  },
  {
   "cell_type": "markdown",
   "id": "93a1aeba",
   "metadata": {},
   "source": [
    "#### Notes:\n",
    "- The R-squared tells us that the model is explaining 45.85% of the model.\n",
    "- The coefficient value of 9.12 tells us that as the `lowstat` variable increases by 1, the predicted value of `Median_s` increases by 9.12."
   ]
  },
  {
   "cell_type": "code",
   "execution_count": null,
   "id": "6c17a6e6",
   "metadata": {},
   "outputs": [],
   "source": []
  }
 ],
 "metadata": {
  "kernelspec": {
   "display_name": "Python 3 (ipykernel)",
   "language": "python",
   "name": "python3"
  },
  "language_info": {
   "codemirror_mode": {
    "name": "ipython",
    "version": 3
   },
   "file_extension": ".py",
   "mimetype": "text/x-python",
   "name": "python",
   "nbconvert_exporter": "python",
   "pygments_lexer": "ipython3",
   "version": "3.9.12"
  }
 },
 "nbformat": 4,
 "nbformat_minor": 5
}
