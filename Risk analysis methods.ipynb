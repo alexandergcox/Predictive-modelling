{
 "cells": [
  {
   "cell_type": "code",
   "execution_count": 1,
   "id": "f36b9ba9",
   "metadata": {},
   "outputs": [
    {
     "name": "stdout",
     "output_type": "stream",
     "text": [
      "Collecting sensitivity\n",
      "  Downloading sensitivity-0.2.8-py3-none-any.whl (14 kB)\n",
      "Requirement already satisfied: tqdm in c:\\users\\alexc_dra7fx5\\anaconda3\\lib\\site-packages (from sensitivity) (4.64.1)\n",
      "Requirement already satisfied: pandas>=1 in c:\\users\\alexc_dra7fx5\\anaconda3\\lib\\site-packages (from sensitivity) (1.4.4)\n",
      "Requirement already satisfied: matplotlib in c:\\users\\alexc_dra7fx5\\anaconda3\\lib\\site-packages (from sensitivity) (3.5.2)\n",
      "Requirement already satisfied: IPython in c:\\users\\alexc_dra7fx5\\anaconda3\\lib\\site-packages (from sensitivity) (7.31.1)\n",
      "Requirement already satisfied: pytz>=2020.1 in c:\\users\\alexc_dra7fx5\\anaconda3\\lib\\site-packages (from pandas>=1->sensitivity) (2022.1)\n",
      "Requirement already satisfied: python-dateutil>=2.8.1 in c:\\users\\alexc_dra7fx5\\anaconda3\\lib\\site-packages (from pandas>=1->sensitivity) (2.8.2)\n",
      "Requirement already satisfied: numpy>=1.18.5 in c:\\users\\alexc_dra7fx5\\anaconda3\\lib\\site-packages (from pandas>=1->sensitivity) (1.21.5)\n",
      "Requirement already satisfied: decorator in c:\\users\\alexc_dra7fx5\\anaconda3\\lib\\site-packages (from IPython->sensitivity) (5.1.1)\n",
      "Requirement already satisfied: setuptools>=18.5 in c:\\users\\alexc_dra7fx5\\anaconda3\\lib\\site-packages (from IPython->sensitivity) (63.4.1)\n",
      "Requirement already satisfied: traitlets>=4.2 in c:\\users\\alexc_dra7fx5\\anaconda3\\lib\\site-packages (from IPython->sensitivity) (5.1.1)\n",
      "Requirement already satisfied: pygments in c:\\users\\alexc_dra7fx5\\anaconda3\\lib\\site-packages (from IPython->sensitivity) (2.11.2)\n",
      "Requirement already satisfied: matplotlib-inline in c:\\users\\alexc_dra7fx5\\anaconda3\\lib\\site-packages (from IPython->sensitivity) (0.1.6)\n",
      "Requirement already satisfied: jedi>=0.16 in c:\\users\\alexc_dra7fx5\\anaconda3\\lib\\site-packages (from IPython->sensitivity) (0.18.1)\n",
      "Requirement already satisfied: prompt-toolkit!=3.0.0,!=3.0.1,<3.1.0,>=2.0.0 in c:\\users\\alexc_dra7fx5\\anaconda3\\lib\\site-packages (from IPython->sensitivity) (3.0.20)\n",
      "Requirement already satisfied: pickleshare in c:\\users\\alexc_dra7fx5\\anaconda3\\lib\\site-packages (from IPython->sensitivity) (0.7.5)\n",
      "Requirement already satisfied: colorama in c:\\users\\alexc_dra7fx5\\anaconda3\\lib\\site-packages (from IPython->sensitivity) (0.4.5)\n",
      "Requirement already satisfied: backcall in c:\\users\\alexc_dra7fx5\\anaconda3\\lib\\site-packages (from IPython->sensitivity) (0.2.0)\n",
      "Requirement already satisfied: fonttools>=4.22.0 in c:\\users\\alexc_dra7fx5\\anaconda3\\lib\\site-packages (from matplotlib->sensitivity) (4.25.0)\n",
      "Requirement already satisfied: kiwisolver>=1.0.1 in c:\\users\\alexc_dra7fx5\\anaconda3\\lib\\site-packages (from matplotlib->sensitivity) (1.4.2)\n",
      "Requirement already satisfied: cycler>=0.10 in c:\\users\\alexc_dra7fx5\\anaconda3\\lib\\site-packages (from matplotlib->sensitivity) (0.11.0)\n",
      "Requirement already satisfied: pillow>=6.2.0 in c:\\users\\alexc_dra7fx5\\anaconda3\\lib\\site-packages (from matplotlib->sensitivity) (9.2.0)\n",
      "Requirement already satisfied: pyparsing>=2.2.1 in c:\\users\\alexc_dra7fx5\\anaconda3\\lib\\site-packages (from matplotlib->sensitivity) (3.0.9)\n",
      "Requirement already satisfied: packaging>=20.0 in c:\\users\\alexc_dra7fx5\\anaconda3\\lib\\site-packages (from matplotlib->sensitivity) (21.3)\n",
      "Requirement already satisfied: parso<0.9.0,>=0.8.0 in c:\\users\\alexc_dra7fx5\\anaconda3\\lib\\site-packages (from jedi>=0.16->IPython->sensitivity) (0.8.3)\n",
      "Requirement already satisfied: wcwidth in c:\\users\\alexc_dra7fx5\\anaconda3\\lib\\site-packages (from prompt-toolkit!=3.0.0,!=3.0.1,<3.1.0,>=2.0.0->IPython->sensitivity) (0.2.5)\n",
      "Requirement already satisfied: six>=1.5 in c:\\users\\alexc_dra7fx5\\anaconda3\\lib\\site-packages (from python-dateutil>=2.8.1->pandas>=1->sensitivity) (1.16.0)\n",
      "Installing collected packages: sensitivity\n",
      "Successfully installed sensitivity-0.2.8\n"
     ]
    }
   ],
   "source": [
    "# Install Python Sensitivity Analysis. \n",
    "!pip install sensitivity  \n",
    "\n",
    "# This might take some time to install."
   ]
  },
  {
   "cell_type": "code",
   "execution_count": 2,
   "id": "476eff48",
   "metadata": {},
   "outputs": [],
   "source": [
    "# Define classes to contain and encapsulate data.\n",
    "from dataclasses import dataclass \n",
    "import pandas as pd\n",
    "# Import in-built module for generating random numbers. \n",
    "import random \n",
    "# Display output inline.\n",
    "%matplotlib inline\n",
    "# Import to replicate a nested loop over the input values.\n",
    "from sensitivity import SensitivityAnalyzer "
   ]
  },
  {
   "cell_type": "code",
   "execution_count": 3,
   "id": "8e6e529d",
   "metadata": {},
   "outputs": [
    {
     "data": {
      "text/plain": [
       "ModelInputs(starting_salary=30000, promos_every_n_years=3, cost_of_living_raise=0.025, promo_raise=0.15, savings_rate=0.2, interest_rate=0.07, desired_cash=1000000)"
      ]
     },
     "execution_count": 3,
     "metadata": {},
     "output_type": "execute_result"
    }
   ],
   "source": [
    "# Create a DataFrame consisting of various classes using Python's 'dataclass()'\n",
    "# module and Object Oriented Programming (OPP).\n",
    "@dataclass\n",
    "\n",
    "class ModelInputs: \n",
    "    # Define the class and specify the default inputs. \n",
    "    starting_salary: int = 30000\n",
    "    promos_every_n_years: int = 3\n",
    "    cost_of_living_raise: float = 0.025\n",
    "    promo_raise: float = 0.15\n",
    "    savings_rate: float = 0.20\n",
    "    interest_rate: float = 0.07\n",
    "    desired_cash: int = 1000000\n",
    "\n",
    "# Create an instance of the new class with the default inputs.\n",
    "model_data = ModelInputs() \n",
    "\n",
    "# Print the results.\n",
    "model_data "
   ]
  },
  {
   "cell_type": "code",
   "execution_count": 4,
   "id": "e9ea3b08",
   "metadata": {},
   "outputs": [],
   "source": [
    "# Get the wage at a given year from the start of the model based \n",
    "# on the cost of living raises and regular promotions.\n",
    "def wages_year(data: ModelInputs, year):\n",
    "    # Every n years we have a promotion, so dividing the years and\n",
    "    # taking out the decimals gets the number of promotions.\n",
    "    num_promos = int(year / data.promos_every_n_years)  \n",
    "    \n",
    "   # This is the formula above implemented in Python.\n",
    "    salary_t = data.starting_salary * (1 + data.cost_of_living_raise)\\\n",
    "    ** year * (1 + data.promo_raise) ** num_promos\n",
    "    return salary_t"
   ]
  },
  {
   "cell_type": "code",
   "execution_count": 5,
   "id": "fc1c395c",
   "metadata": {},
   "outputs": [
    {
     "name": "stdout",
     "output_type": "stream",
     "text": [
      "The wage at year 1 is £30,750.\n",
      "The wage at year 2 is £31,519.\n",
      "The wage at year 3 is £37,153.\n",
      "The wage at year 4 is £38,082.\n"
     ]
    }
   ],
   "source": [
    "# Show the first four salaries in the range and \n",
    "# print the results using the f-string.\n",
    "for i in range(4):\n",
    "    year = i + 1\n",
    "    salary = wages_year(model_data, year)\n",
    "    print(f'The wage at year {year} is £{salary:,.0f}.')"
   ]
  },
  {
   "cell_type": "code",
   "execution_count": 6,
   "id": "6fe72508",
   "metadata": {},
   "outputs": [],
   "source": [
    "# Calculate the cash saved within a given year by first \n",
    "# calculating the salary at that year then applying the savings rate.\n",
    "def cash_saved_during_year(data: ModelInputs, year):\n",
    "    salary = wages_year(data, year)\n",
    "    cash_saved = salary * data.savings_rate\n",
    "    return cash_saved\n",
    "\n",
    "# Calculate the accumulated wealth for a given year based\n",
    "# on previous wealth, the investment rate, and cash saved during the year.\n",
    "def wealth_year(data: ModelInputs, year, prior_wealth):\n",
    "                cash_saved = cash_saved_during_year(data, year)\n",
    "                wealth = prior_wealth * (1 + data.interest_rate) + cash_saved\n",
    "                return wealth"
   ]
  },
  {
   "cell_type": "code",
   "execution_count": 7,
   "id": "b5cd9f4c",
   "metadata": {},
   "outputs": [
    {
     "name": "stdout",
     "output_type": "stream",
     "text": [
      "The accumulated wealth at year 1 is £6,150.\n",
      "The accumulated wealth at year 2 is £12,884.\n",
      "The accumulated wealth at year 3 is £21,217.\n",
      "The accumulated wealth at year 4 is £30,318.\n"
     ]
    }
   ],
   "source": [
    "# Start with no cash saved.\n",
    "prior_wealth = 0  \n",
    "for i in range(4):\n",
    "    year = i + 1\n",
    "    wealth = wealth_year(model_data, year, prior_wealth)\n",
    "    print(f'The accumulated wealth at year {year} is £{wealth:,.0f}.')\n",
    "    \n",
    "    # Set next year's prior wealth to this year's wealth:\n",
    "    prior_wealth = wealth\n"
   ]
  },
  {
   "cell_type": "code",
   "execution_count": 8,
   "id": "7043b627",
   "metadata": {},
   "outputs": [],
   "source": [
    "def years_to_retirement(data: ModelInputs, print_output=True):\n",
    "    # Start with no cash saved.\n",
    "    prior_wealth = 0  \n",
    "    wealth = 0\n",
    "    # The ‘year’ becomes ‘1’ on the first loop.\n",
    "    year = 0  \n",
    "   \n",
    "    if print_output:\n",
    "        print('Wealths over time:')\n",
    "    while wealth < data.desired_cash:\n",
    "        year = year + 1\n",
    "        wealth = wealth_year(data, year, prior_wealth)\n",
    "        if print_output:\n",
    "            print(f'The accumulated wealth at year {year} is £{wealth:,.0f}.')\n",
    "            # Set next year's prior wealth to this year's wealth.\n",
    "        prior_wealth = wealth  \n",
    "       \n",
    "    # Now we have run the while loop, the wealth must be >= desired_cash \n",
    "    # (whatever last year was set is the years to retirement), which we can print.\n",
    "    if print_output:\n",
    "        # \\n makes a blank line in the output.\n",
    "        print(f'\\nRetirement:\\nIt will take {year} years to retire.')  \n",
    "    return year"
   ]
  },
  {
   "cell_type": "code",
   "execution_count": 9,
   "id": "4e82133f",
   "metadata": {},
   "outputs": [
    {
     "name": "stdout",
     "output_type": "stream",
     "text": [
      "Wealths over time:\n",
      "The accumulated wealth at year 1 is £6,150.\n",
      "The accumulated wealth at year 2 is £12,884.\n",
      "The accumulated wealth at year 3 is £21,217.\n",
      "The accumulated wealth at year 4 is £30,318.\n",
      "The accumulated wealth at year 5 is £40,247.\n",
      "The accumulated wealth at year 6 is £52,267.\n",
      "The accumulated wealth at year 7 is £65,358.\n",
      "The accumulated wealth at year 8 is £79,601.\n",
      "The accumulated wealth at year 9 is £96,569.\n",
      "The accumulated wealth at year 10 is £115,010.\n",
      "The accumulated wealth at year 11 is £135,033.\n",
      "The accumulated wealth at year 12 is £158,599.\n",
      "The accumulated wealth at year 13 is £184,167.\n",
      "The accumulated wealth at year 14 is £211,887.\n",
      "The accumulated wealth at year 15 is £244,197.\n",
      "The accumulated wealth at year 16 is £279,206.\n",
      "The accumulated wealth at year 17 is £317,114.\n",
      "The accumulated wealth at year 18 is £360,957.\n",
      "The accumulated wealth at year 19 is £408,411.\n",
      "The accumulated wealth at year 20 is £459,741.\n",
      "The accumulated wealth at year 21 is £518,729.\n",
      "The accumulated wealth at year 22 is £582,517.\n",
      "The accumulated wealth at year 23 is £651,456.\n",
      "The accumulated wealth at year 24 is £730,256.\n",
      "The accumulated wealth at year 25 is £815,401.\n",
      "The accumulated wealth at year 26 is £907,357.\n",
      "The accumulated wealth at year 27 is £1,011,985.\n",
      "\n",
      "Retirement:\n",
      "It will take 27 years to retire.\n"
     ]
    }
   ],
   "source": [
    "years = years_to_retirement(model_data)"
   ]
  },
  {
   "cell_type": "code",
   "execution_count": 10,
   "id": "efcdded7",
   "metadata": {},
   "outputs": [
    {
     "data": {
      "text/html": [
       "<div>\n",
       "<style scoped>\n",
       "    .dataframe tbody tr th:only-of-type {\n",
       "        vertical-align: middle;\n",
       "    }\n",
       "\n",
       "    .dataframe tbody tr th {\n",
       "        vertical-align: top;\n",
       "    }\n",
       "\n",
       "    .dataframe thead th {\n",
       "        text-align: right;\n",
       "    }\n",
       "</style>\n",
       "<table border=\"1\" class=\"dataframe\">\n",
       "  <thead>\n",
       "    <tr style=\"text-align: right;\">\n",
       "      <th></th>\n",
       "      <th>Year</th>\n",
       "      <th>Wealth</th>\n",
       "    </tr>\n",
       "  </thead>\n",
       "  <tbody>\n",
       "    <tr>\n",
       "      <th>0</th>\n",
       "      <td>1</td>\n",
       "      <td>6150.000000</td>\n",
       "    </tr>\n",
       "    <tr>\n",
       "      <th>1</th>\n",
       "      <td>2</td>\n",
       "      <td>12884.250000</td>\n",
       "    </tr>\n",
       "    <tr>\n",
       "      <th>2</th>\n",
       "      <td>3</td>\n",
       "      <td>21216.692812</td>\n",
       "    </tr>\n",
       "    <tr>\n",
       "      <th>3</th>\n",
       "      <td>4</td>\n",
       "      <td>30318.170255</td>\n",
       "    </tr>\n",
       "    <tr>\n",
       "      <th>4</th>\n",
       "      <td>5</td>\n",
       "      <td>40247.158841</td>\n",
       "    </tr>\n",
       "  </tbody>\n",
       "</table>\n",
       "</div>"
      ],
      "text/plain": [
       "   Year        Wealth\n",
       "0     1   6150.000000\n",
       "1     2  12884.250000\n",
       "2     3  21216.692812\n",
       "3     4  30318.170255\n",
       "4     5  40247.158841"
      ]
     },
     "execution_count": 10,
     "metadata": {},
     "output_type": "execute_result"
    }
   ],
   "source": [
    "def years_to_retirement(data):\n",
    "    # Start with no cash saved.\n",
    "    prior_wealth = 0  \n",
    "    wealth = 0\n",
    "    # The ‘year’ becomes ‘1’ on the first loop.\n",
    "    year = 0\n",
    "    \n",
    "    # Set up output to be displayed as a DataFrame as tuples.\n",
    "    df_data_tups = []\n",
    "    while wealth < data.desired_cash:\n",
    "        year = year + 1\n",
    "        wealth = wealth_year(data, year, prior_wealth)\n",
    "        \n",
    "        # Set next year's prior wealth to this year's wealth.\n",
    "        prior_wealth = wealth  \n",
    "        \n",
    "        # Save the results in a tuple for later building the DataFrame.\n",
    "        df_data_tups.append((year, wealth))\n",
    "       \n",
    "    # Now we have run the while loop, so wealth must be >= desired_cash. \n",
    "    # Create the DataFrame.\n",
    "    df = pd.DataFrame(df_data_tups, columns=['Year', 'Wealth'])\n",
    "    \n",
    "    return df\n",
    "\n",
    "# Save the function results into the DataFrame.\n",
    "results_df = years_to_retirement(model_data)\n",
    "\n",
    "# View the DataFrame.\n",
    "results_df.head()"
   ]
  },
  {
   "cell_type": "code",
   "execution_count": null,
   "id": "3b09dfaf",
   "metadata": {},
   "outputs": [],
   "source": []
  }
 ],
 "metadata": {
  "kernelspec": {
   "display_name": "Python 3 (ipykernel)",
   "language": "python",
   "name": "python3"
  },
  "language_info": {
   "codemirror_mode": {
    "name": "ipython",
    "version": 3
   },
   "file_extension": ".py",
   "mimetype": "text/x-python",
   "name": "python",
   "nbconvert_exporter": "python",
   "pygments_lexer": "ipython3",
   "version": "3.9.13"
  }
 },
 "nbformat": 4,
 "nbformat_minor": 5
}
