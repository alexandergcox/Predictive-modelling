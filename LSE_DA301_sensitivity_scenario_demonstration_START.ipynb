{
 "cells": [
  {
   "cell_type": "markdown",
   "id": "64157b4d",
   "metadata": {},
   "source": [
    "### LSE Data Analytics Online Career Accelerator \n",
    "\n",
    "# Course 301: Advanced Analytics for Organisational Impact"
   ]
  },
  {
   "cell_type": "markdown",
   "id": "a4ffe7c9",
   "metadata": {},
   "source": [
    "## Demonstration: Sensitivity scenario and what-if analysis combined"
   ]
  },
  {
   "cell_type": "markdown",
   "id": "9bbb8839",
   "metadata": {},
   "source": [
    "You’ve created a retirement model for the wealth management company and plotted the results in a DataFrame, let’s see how the model responds to different outputs and scenarios to solve a specific business challenge. In this demonstration, we will combine a sensitivity scenario and a what-if analysis."
   ]
  },
  {
   "cell_type": "markdown",
   "id": "f3f1d8c1",
   "metadata": {},
   "source": [
    "# "
   ]
  },
  {
   "cell_type": "markdown",
   "id": "bbf1b9fd",
   "metadata": {},
   "source": [
    "# Sensitivity scenario"
   ]
  },
  {
   "cell_type": "markdown",
   "id": "874d7146",
   "metadata": {},
   "source": [
    "## Prepare your workstation"
   ]
  },
  {
   "cell_type": "markdown",
   "id": "2c961365",
   "metadata": {},
   "source": [
    "> The code snippets and data are based on the previous model."
   ]
  },
  {
   "cell_type": "markdown",
   "id": "3c266ff0",
   "metadata": {},
   "source": [
    "### Import the necessary libraries."
   ]
  },
  {
   "cell_type": "code",
   "execution_count": null,
   "id": "a3c6d708",
   "metadata": {},
   "outputs": [],
   "source": [
    "# Define classes to contain and encapsulate data.\n",
    "from dataclasses import dataclass \n",
    "import pandas as pd\n",
    "# Import in-built module for generating random numbers. \n",
    "import random \n",
    "# Display output inline.\n",
    "%matplotlib inline\n",
    "# Import to replicate a nested loop over the input values.\n",
    "from sensitivity import SensitivityAnalyzer \n",
    "\n",
    "# Import warnings and disable.\n",
    "import warnings\n",
    "warnings.filterwarnings('ignore')"
   ]
  },
  {
   "cell_type": "markdown",
   "id": "ea4c2234",
   "metadata": {},
   "source": [
    "### Specify the inputs"
   ]
  },
  {
   "cell_type": "code",
   "execution_count": null,
   "id": "fc18c36d",
   "metadata": {},
   "outputs": [],
   "source": [
    "# Create a DataFrame consisting of various classes using Python's 'dataclass()'\n",
    "# module and Object Oriented Programming (OPP).\n",
    "@dataclass\n",
    "\n",
    "class ModelInputs: \n",
    "    # Define the class and specify the default inputs. \n",
    "    starting_salary: int = 30000\n",
    "    promos_every_n_years: int = 3\n",
    "    cost_of_living_raise: float = 0.025\n",
    "    promo_raise: float = 0.15\n",
    "    savings_rate: float = 0.20\n",
    "    interest_rate: float = 0.07\n",
    "    desired_cash: int = 1000000\n",
    "\n",
    "# Create an instance of the new class with the default inputs.\n",
    "model_data = ModelInputs() \n",
    "\n",
    "# Print the results.\n",
    "model_data "
   ]
  },
  {
   "cell_type": "markdown",
   "id": "9f905a90",
   "metadata": {},
   "source": [
    "### Calculate wage"
   ]
  },
  {
   "cell_type": "code",
   "execution_count": null,
   "id": "70db047b",
   "metadata": {},
   "outputs": [],
   "source": [
    "# Get the wage at a given year from the start of the model based \n",
    "# on the cost of living raises and regular promotions.\n",
    "def wages_year(data: ModelInputs, year):\n",
    "    # Every n years we have a promotion, so dividing the years and\n",
    "    # taking out the decimals gets the number of promotions.\n",
    "    num_promos = int(year / data.promos_every_n_years)  \n",
    "    \n",
    "   # This is the formula above implemented in Python.\n",
    "    salary_t = data.starting_salary * (1 + data.cost_of_living_raise)\\\n",
    "    ** year * (1 + data.promo_raise) ** num_promos\n",
    "    return salary_t\n",
    "\n",
    "# Show the first four salaries in the range and \n",
    "# print the results using the f-string.\n",
    "for i in range(4):\n",
    "    year = i + 1\n",
    "    salary = wages_year(model_data, year)\n",
    "    print(f'The wage at year {year} is £{salary:,.0f}.')"
   ]
  },
  {
   "cell_type": "markdown",
   "id": "052114a2",
   "metadata": {},
   "source": [
    "### Calculate wealth"
   ]
  },
  {
   "cell_type": "code",
   "execution_count": null,
   "id": "51e2cc68",
   "metadata": {},
   "outputs": [],
   "source": [
    "# Calculate the cash saved within a given year by first \n",
    "# calculating the salary at that year then applying the savings rate.\n",
    "def cash_saved_during_year(data: ModelInputs, year):\n",
    "    salary = wages_year(data, year)\n",
    "    cash_saved = salary * data.savings_rate\n",
    "    return cash_saved\n",
    "\n",
    "# Calculate the accumulated wealth for a given year based\n",
    "# on previous wealth, the investment rate, and cash saved during the year.\n",
    "def wealth_year(data: ModelInputs, year, prior_wealth):\n",
    "                cash_saved = cash_saved_during_year(data, year)\n",
    "                wealth = prior_wealth * (1 + data.interest_rate) + cash_saved\n",
    "                return wealth\n",
    "\n",
    "# Start with no cash saved.\n",
    "prior_wealth = 0  \n",
    "for i in range(4):\n",
    "    year = i + 1\n",
    "    wealth = wealth_year(model_data, year, prior_wealth)\n",
    "    print(f'The wealth at year {year} is £{wealth:,.0f}.')\n",
    "    \n",
    "    # Set next year's prior wealth to this year's wealth:\n",
    "    prior_wealth = wealth           "
   ]
  },
  {
   "cell_type": "markdown",
   "id": "7b921a4f",
   "metadata": {},
   "source": [
    "### Calculate years to retirement "
   ]
  },
  {
   "cell_type": "code",
   "execution_count": null,
   "id": "8adf7980",
   "metadata": {},
   "outputs": [],
   "source": [
    "def years_to_retirement(data: ModelInputs, print_output=True):\n",
    "    # Start with no cash saved.\n",
    "    prior_wealth = 0  \n",
    "    wealth = 0\n",
    "    # The ‘year’ becomes ‘1’ on the first loop.\n",
    "    year = 0  \n",
    "   \n",
    "    if print_output:\n",
    "        print('Wealth over time:')\n",
    "    while wealth < data.desired_cash:\n",
    "        year = year + 1\n",
    "        wealth = wealth_year(data, year, prior_wealth)\n",
    "        if print_output:\n",
    "            print(f'The accumulated wealth at year {year} is £{wealth:,.0f}.')\n",
    "            # Set next year's prior wealth to this year's wealth.\n",
    "        prior_wealth = wealth  \n",
    "       \n",
    "    # Now we have run the while loop, the wealth must be >= desired_cash \n",
    "    # (whatever last year was set is the years to retirement), which we can print.\n",
    "    if print_output:\n",
    "        # \\n makes a blank line in the output.\n",
    "        print(f'\\nRetirement:\\nIt will take {year} years to retire.')  \n",
    "    return year\n",
    "\n",
    "years_to_retirement(model_data)"
   ]
  },
  {
   "cell_type": "markdown",
   "id": "edee4b7c",
   "metadata": {},
   "source": [
    "# "
   ]
  },
  {
   "cell_type": "markdown",
   "id": "d3688f8e",
   "metadata": {},
   "source": [
    "## 1. Defining functions for calculating the values for sensitivity analysis"
   ]
  },
  {
   "cell_type": "code",
   "execution_count": null,
   "id": "4e4ced62",
   "metadata": {},
   "outputs": [],
   "source": []
  },
  {
   "cell_type": "code",
   "execution_count": null,
   "id": "64c0cf0a",
   "metadata": {},
   "outputs": [],
   "source": []
  },
  {
   "cell_type": "markdown",
   "id": "bba60ba2",
   "metadata": {},
   "source": [
    "## 2. Generate random values for the input variables"
   ]
  },
  {
   "cell_type": "code",
   "execution_count": null,
   "id": "614f7c30",
   "metadata": {},
   "outputs": [],
   "source": []
  },
  {
   "cell_type": "code",
   "execution_count": null,
   "id": "093a43e3",
   "metadata": {},
   "outputs": [],
   "source": []
  },
  {
   "cell_type": "markdown",
   "id": "e6900027",
   "metadata": {},
   "source": [
    "## 3. Running the sensitivity analyse module"
   ]
  },
  {
   "cell_type": "code",
   "execution_count": null,
   "id": "450bd5cd",
   "metadata": {},
   "outputs": [],
   "source": []
  },
  {
   "cell_type": "code",
   "execution_count": null,
   "id": "fdc45c3e",
   "metadata": {},
   "outputs": [],
   "source": []
  },
  {
   "cell_type": "markdown",
   "id": "3d47d0ff",
   "metadata": {},
   "source": [
    "## 4. Display the results"
   ]
  },
  {
   "cell_type": "code",
   "execution_count": null,
   "id": "7344259a",
   "metadata": {},
   "outputs": [],
   "source": []
  },
  {
   "cell_type": "code",
   "execution_count": null,
   "id": "7fe77eeb",
   "metadata": {},
   "outputs": [],
   "source": []
  },
  {
   "cell_type": "markdown",
   "id": "8f6b9e81",
   "metadata": {},
   "source": [
    "# "
   ]
  },
  {
   "cell_type": "markdown",
   "id": "d31ef646",
   "metadata": {},
   "source": [
    "# What-if analysis"
   ]
  },
  {
   "cell_type": "markdown",
   "id": "efb954f6",
   "metadata": {},
   "source": [
    "### Specify the good and bad economies"
   ]
  },
  {
   "cell_type": "code",
   "execution_count": null,
   "id": "06160865",
   "metadata": {},
   "outputs": [],
   "source": []
  },
  {
   "cell_type": "code",
   "execution_count": null,
   "id": "43941265",
   "metadata": {},
   "outputs": [],
   "source": []
  },
  {
   "cell_type": "markdown",
   "id": "669c2a99",
   "metadata": {},
   "source": [
    "# "
   ]
  },
  {
   "cell_type": "markdown",
   "id": "9ea47554",
   "metadata": {},
   "source": [
    "# Assigning probabilities"
   ]
  },
  {
   "cell_type": "code",
   "execution_count": null,
   "id": "a5c50acc",
   "metadata": {},
   "outputs": [],
   "source": []
  },
  {
   "cell_type": "code",
   "execution_count": null,
   "id": "4b5bfd98",
   "metadata": {},
   "outputs": [],
   "source": []
  }
 ],
 "metadata": {
  "kernelspec": {
   "display_name": "Python 3 (ipykernel)",
   "language": "python",
   "name": "python3"
  },
  "language_info": {
   "codemirror_mode": {
    "name": "ipython",
    "version": 3
   },
   "file_extension": ".py",
   "mimetype": "text/x-python",
   "name": "python",
   "nbconvert_exporter": "python",
   "pygments_lexer": "ipython3",
   "version": "3.9.12"
  }
 },
 "nbformat": 4,
 "nbformat_minor": 5
}
