{
 "cells": [
  {
   "cell_type": "markdown",
   "id": "0e20f751",
   "metadata": {},
   "source": [
    "### LSE Data Analytics Online Career Accelerator \n",
    "\n",
    "# DA301:  Advanced Analytics for Organisational Impact"
   ]
  },
  {
   "cell_type": "markdown",
   "id": "de440c4c",
   "metadata": {},
   "source": [
    "## Demostration video: *k*-means clustering\n"
   ]
  },
  {
   "cell_type": "markdown",
   "id": "c2e073be",
   "metadata": {},
   "source": [
    "#### *This is a possible solution to the demostration video.* \n",
    "\n",
    "In this video, we will create, fit and interpret a k-means clustering model based on a real life scenario.\n",
    "\n",
    "Imagine we’re working as a data analyst at a fruit breeding research station. As one of our quarterly goals, we decide to investigate the possibility of utilising k-means clustering to understand data collected by all the researchers.\n",
    "\n",
    "To get there, let’s first set two broad questions for us to answer:\n",
    "- Can we use k-means clustering to draw useful conclusions and predictions? For example, can the fruit type be deduced from sepal length and sepal width based on k-means clustering?\n",
    "- How can we improve the accuracy of the model?"
   ]
  },
  {
   "cell_type": "markdown",
   "id": "1dbc354e",
   "metadata": {},
   "source": [
    "# "
   ]
  },
  {
   "cell_type": "markdown",
   "id": "6eebce65",
   "metadata": {},
   "source": [
    "## 1. Prepare your workstation"
   ]
  },
  {
   "cell_type": "markdown",
   "id": "56ea5dac",
   "metadata": {},
   "source": [
    "Okay, so our first step is always to prepare our workstation, starting with importing  the necessary libraries and the data set. \n",
    "The data set we have from the research station – `fruit.csv` – contains a data of 1,500 fruit blossoms from three different fruit types: apricots, peaches, and plums. The sepal length and width of fruit blossoms were measured on mature fruit trees between the ages of 7 and 10 years.\n",
    "\n",
    "Pollen of fruit flowers are harvested for pollination when the blossoms are in a balloon phase. Although the petals of apricots, plums and peaches differ in colour, the difference is not always as distinct enough for colourblind researchers. Therefore, the sepal width and legth were measured to determine whether the fruit type of the harvested blossoms can be identified based on sepal width and length."
   ]
  },
  {
   "cell_type": "code",
   "execution_count": null,
   "id": "2aeddb2b",
   "metadata": {},
   "outputs": [],
   "source": [
    "# Import libraries.\n",
    "import pandas as pd\n",
    "import numpy as np\n",
    "\n",
    "import warnings\n",
    "warnings.filterwarnings('ignore')\n",
    "\n",
    "# Load the data.\n",
    "df = pd.read_csv('fruit.csv')\n",
    "\n",
    "# View the DataFrame.\n",
    "df.info()"
   ]
  },
  {
   "cell_type": "markdown",
   "id": "51420f94",
   "metadata": {},
   "source": [
    "# "
   ]
  },
  {
   "cell_type": "markdown",
   "id": "72d0006c",
   "metadata": {},
   "source": [
    "## 2. Prepare the data"
   ]
  },
  {
   "cell_type": "code",
   "execution_count": null,
   "id": "ca1da4f2",
   "metadata": {},
   "outputs": [],
   "source": [
    "# Drop unnecessary columns.\n",
    "df_fruit = df.drop(columns=['tree_age', 'location', 'colour_blossom'])\n",
    "\n",
    "# Display a summary of the numeric variables and column names.\n",
    "print(df_fruit.columns)\n",
    "df_fruit.describe()"
   ]
  },
  {
   "cell_type": "markdown",
   "id": "88b5f336",
   "metadata": {},
   "source": [
    "# "
   ]
  },
  {
   "cell_type": "markdown",
   "id": "098caecb",
   "metadata": {},
   "source": [
    "## 3. Visualise the data"
   ]
  },
  {
   "cell_type": "markdown",
   "id": "be3876e2",
   "metadata": {},
   "source": [
    "### Scatterplot"
   ]
  },
  {
   "cell_type": "code",
   "execution_count": null,
   "id": "dd9b6c04",
   "metadata": {},
   "outputs": [],
   "source": [
    "# Import Seaborn and Matplotlib.\n",
    "from matplotlib import pyplot as plt\n",
    "import seaborn as sns\n",
    "\n",
    "# Create a scatterplot with Seaborn.\n",
    "sns.scatterplot(x='sepal_length',\n",
    "                y='sepal_width',\n",
    "                data=df_fruit,\n",
    "                hue='fruit_type')"
   ]
  },
  {
   "cell_type": "markdown",
   "id": "3bc338d2",
   "metadata": {},
   "source": [
    "### Pairplot"
   ]
  },
  {
   "cell_type": "code",
   "execution_count": null,
   "id": "cf35ad76",
   "metadata": {},
   "outputs": [],
   "source": [
    "# Create a pairplot with Seaborn.\n",
    "x = df_fruit[['sepal_length', 'sepal_width']]\n",
    "\n",
    "sns.pairplot(df_fruit,\n",
    "             vars=x,\n",
    "             hue='fruit_type',\n",
    "             diag_kind='kde')"
   ]
  },
  {
   "cell_type": "markdown",
   "id": "4ea8d1ba",
   "metadata": {},
   "source": [
    "# "
   ]
  },
  {
   "cell_type": "markdown",
   "id": "def09144",
   "metadata": {},
   "source": [
    "## 4. Improve the accuracy"
   ]
  },
  {
   "cell_type": "markdown",
   "id": "32075985",
   "metadata": {},
   "source": [
    "### The elbow method\n",
    "The elbow method is used to determine the optimal number of clusters in *k*-means clustering. However, the elbow method doesn't always work well, especially if the data is not very clustered. "
   ]
  },
  {
   "cell_type": "code",
   "execution_count": null,
   "id": "ba496728",
   "metadata": {},
   "outputs": [],
   "source": [
    "# Import the KMeans class.\n",
    "from sklearn.cluster import KMeans \n",
    "\n",
    "# Elbow chart for us to decide on the number of optimal clusters.\n",
    "ss = []\n",
    "for i in range(1, 11):\n",
    "    kmeans = KMeans(n_clusters=i,\n",
    "                    init='k-means++',\n",
    "                    max_iter=300,\n",
    "                    n_init=10,\n",
    "                    random_state=0)\n",
    "    kmeans.fit(x)\n",
    "    ss.append(kmeans.inertia_)\n",
    "\n",
    "# Plot the elbow method.\n",
    "plt.plot(range(1, 11),\n",
    "         ss,\n",
    "         marker='o')\n",
    "\n",
    "# Insert labels and title.\n",
    "plt.title(\"The Elbow Method\")\n",
    "plt.xlabel(\"Number of clusters\")\n",
    "plt.ylabel(\"SS distance\")\n",
    "\n",
    "plt.show()"
   ]
  },
  {
   "cell_type": "markdown",
   "id": "cc4ce340",
   "metadata": {},
   "source": [
    "### The silhouette method\n",
    "\n",
    "The silhouette method computes silhouette coefficients of each point that measure how much a point is similar to its own cluster compared to other clusters. It provides a succinct graphical representation of how well each object has been classified."
   ]
  },
  {
   "cell_type": "code",
   "execution_count": null,
   "id": "bd987bdb",
   "metadata": {},
   "outputs": [],
   "source": [
    "# Import silhouette_score class from sklearn.\n",
    "from sklearn.metrics import silhouette_score\n",
    "\n",
    "# Find the range of clusters to be used using silhouette method.\n",
    "sil = []\n",
    "kmax = 10\n",
    "\n",
    "for k in range(2, kmax+1):\n",
    "    kmeans_s = KMeans(n_clusters=k).fit(x)\n",
    "    labels = kmeans_s.labels_\n",
    "    sil.append(silhouette_score(x,\n",
    "                                labels,\n",
    "                                metric='euclidean'))\n",
    "\n",
    "# Plot the silhouette method.\n",
    "plt.plot(range(2, kmax+1),\n",
    "         sil,\n",
    "         marker='o')\n",
    "\n",
    "# Insert labels and title.\n",
    "plt.title(\"The Silhouette Method\")\n",
    "plt.xlabel(\"Number of clusters\")\n",
    "plt.ylabel(\"Sil\")\n",
    "\n",
    "plt.show()"
   ]
  },
  {
   "cell_type": "markdown",
   "id": "0c5d5ae9",
   "metadata": {},
   "source": [
    "# "
   ]
  },
  {
   "cell_type": "markdown",
   "id": "fec3dd0a",
   "metadata": {},
   "source": [
    "# Selecting the number of clusters"
   ]
  },
  {
   "cell_type": "markdown",
   "id": "dcff90dc",
   "metadata": {},
   "source": [
    "### As we have three fruit types, let's set `k=3` (three clusters)."
   ]
  },
  {
   "cell_type": "markdown",
   "id": "c04f8402",
   "metadata": {},
   "source": [
    "## 5a. Evaluate and fit the model"
   ]
  },
  {
   "cell_type": "code",
   "execution_count": null,
   "id": "031b1deb",
   "metadata": {},
   "outputs": [],
   "source": [
    "# Use three clusters.\n",
    "kmeans = KMeans(n_clusters = 3, \n",
    "                max_iter = 15000,\n",
    "                init='k-means++',\n",
    "                random_state=0).fit(x)\n",
    "\n",
    "clusters = kmeans.labels_\n",
    "\n",
    "x['K-Means Predicted'] = clusters\n",
    "\n",
    "# Plot the predicted.\n",
    "sns.pairplot(x,\n",
    "             hue='K-Means Predicted',\n",
    "             diag_kind= 'kde')"
   ]
  },
  {
   "cell_type": "code",
   "execution_count": null,
   "id": "b6467d60",
   "metadata": {},
   "outputs": [],
   "source": [
    "# Check the number of observations per predicted class.\n",
    "x['K-Means Predicted'].value_counts()"
   ]
  },
  {
   "cell_type": "markdown",
   "id": "80168b05",
   "metadata": {},
   "source": [
    "## 6a. Visualise the clusters"
   ]
  },
  {
   "cell_type": "code",
   "execution_count": null,
   "id": "c41403dc",
   "metadata": {},
   "outputs": [],
   "source": [
    "# View the K-Means predicted.\n",
    "print(x.head())"
   ]
  },
  {
   "cell_type": "code",
   "execution_count": null,
   "id": "8bb18557",
   "metadata": {},
   "outputs": [],
   "source": [
    "# Visualising the clusters.\n",
    "# Set plot size.\n",
    "sns.set(rc = {'figure.figsize':(12, 8)})\n",
    "\n",
    "# Create a scatterplot.\n",
    "sns.scatterplot(x='sepal_length' , \n",
    "                y ='sepal_width',\n",
    "                data=x,\n",
    "                hue='K-Means Predicted',\n",
    "                palette=['red', 'green', 'blue'])"
   ]
  },
  {
   "cell_type": "markdown",
   "id": "49b334f7",
   "metadata": {},
   "source": [
    "# "
   ]
  },
  {
   "cell_type": "markdown",
   "id": "a7e7cba4",
   "metadata": {},
   "source": [
    "### Let's set `k=4` and compare it with three clusters."
   ]
  },
  {
   "cell_type": "markdown",
   "id": "0a8cf30b",
   "metadata": {},
   "source": [
    "## 5a. Evaluate and fit the model"
   ]
  },
  {
   "cell_type": "code",
   "execution_count": null,
   "id": "02bf58cb",
   "metadata": {},
   "outputs": [],
   "source": [
    "# Use four clusters.\n",
    "kmeans = KMeans(n_clusters=4,\n",
    "                max_iter=15000,\n",
    "                init='k-means++',\n",
    "                random_state=0).fit(x)\n",
    "\n",
    "clusters = kmeans.labels_\n",
    "\n",
    "x['K-Means Predicted'] = clusters\n",
    "\n",
    "# Plot the predicted.\n",
    "sns.pairplot(x, \n",
    "             hue='K-Means Predicted',\n",
    "             diag_kind='kde')"
   ]
  },
  {
   "cell_type": "code",
   "execution_count": null,
   "id": "8188975f",
   "metadata": {},
   "outputs": [],
   "source": [
    "# Check the number of observations per predicted class.\n",
    "x['K-Means Predicted'].value_counts()"
   ]
  },
  {
   "cell_type": "markdown",
   "id": "3f56c69e",
   "metadata": {},
   "source": [
    "## 6a. Visualise the clusters"
   ]
  },
  {
   "cell_type": "code",
   "execution_count": null,
   "id": "6acffe31",
   "metadata": {},
   "outputs": [],
   "source": [
    "# View the K-Means predicted.\n",
    "print(x.head())"
   ]
  },
  {
   "cell_type": "code",
   "execution_count": null,
   "id": "505d613f",
   "metadata": {},
   "outputs": [],
   "source": [
    "# Visualising the clusters.\n",
    "# Set plot size.\n",
    "sns.set(rc = {'figure.figsize':(12, 8)})\n",
    "\n",
    "# Create a scatterplot.\n",
    "sns.scatterplot(x='sepal_length' , \n",
    "                y ='sepal_width',\n",
    "                data=x,\n",
    "                hue='K-Means Predicted',\n",
    "                palette=['red', 'green', 'blue', 'black'])"
   ]
  },
  {
   "cell_type": "markdown",
   "id": "3d87b636",
   "metadata": {},
   "source": [
    "# "
   ]
  },
  {
   "cell_type": "markdown",
   "id": "9df44b86",
   "metadata": {},
   "source": [
    "## 7. Conclusion(s)"
   ]
  },
  {
   "cell_type": "markdown",
   "id": "5fc3087a",
   "metadata": {},
   "source": [
    ">Although there were only three fruit types (apricot, plum, and peach), it seems that `k=4` (four clusters) might give the best results (groups). The three fruit types are closely related (same Genus, but different species); therefore, `Cluster 0` for both `k=3` and `k=4` is the largest group. The number of predicted values per class indicates a better distribution for `k=4` than `k=3`. "
   ]
  }
 ],
 "metadata": {
  "kernelspec": {
   "display_name": "Python 3 (ipykernel)",
   "language": "python",
   "name": "python3"
  },
  "language_info": {
   "codemirror_mode": {
    "name": "ipython",
    "version": 3
   },
   "file_extension": ".py",
   "mimetype": "text/x-python",
   "name": "python",
   "nbconvert_exporter": "python",
   "pygments_lexer": "ipython3",
   "version": "3.9.12"
  }
 },
 "nbformat": 4,
 "nbformat_minor": 5
}
