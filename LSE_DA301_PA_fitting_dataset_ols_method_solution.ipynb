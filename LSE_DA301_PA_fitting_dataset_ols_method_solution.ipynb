{
 "cells": [
  {
   "cell_type": "markdown",
   "id": "94199fa3",
   "metadata": {},
   "source": [
    "### LSE Data Analytics Online Career Accelerator \n",
    "# Course 301: Advanced Analytics for Organisational Impact"
   ]
  },
  {
   "cell_type": "markdown",
   "id": "46fcc342",
   "metadata": {},
   "source": [
    "## Practical activity: Fitting a data set using the OLS method"
   ]
  },
  {
   "cell_type": "markdown",
   "id": "26969258",
   "metadata": {},
   "source": [
    "**This is the solution to the activity.**\n",
    "\n",
    "In all regression models, the aim is to minimise residuals by finding the line of best fit. OLS is a common and straightforward way to estimate a linear regression model and to fit a linear equation to observed data. You’ll now have a chance to fit a data set using OLS in Python. \n",
    "\n",
    "An e-commerce store has asked you to analyse its online shopping experience. To help its marketing team optimise its campaign efforts to pre-existing users, the company wants to know how much money customers spend relative to how long they've been a member.\n",
    "\n",
    "Remember, the marketing team needs to find a way to predict as accurately as possible how much money customers will spend, based on how long they have been a member of the shopping platform. Using the data set provided, you’ll need to decide on the independent and dependent variables and minimise residuals by finding the line of best fit. "
   ]
  },
  {
   "cell_type": "markdown",
   "id": "e0ec3ed0",
   "metadata": {},
   "source": [
    "## 1. Prepare your workstation"
   ]
  },
  {
   "cell_type": "code",
   "execution_count": null,
   "id": "19b7bc2c",
   "metadata": {},
   "outputs": [],
   "source": [
    "# Import the necessary libraries.\n",
    "import numpy as np\n",
    "import pandas as pd\n",
    "import matplotlib.pyplot as plt\n",
    "import statsmodels.api as sm \n",
    "from statsmodels.formula.api import ols"
   ]
  },
  {
   "cell_type": "markdown",
   "id": "8a657692",
   "metadata": {},
   "source": [
    "## 2. Import the data set"
   ]
  },
  {
   "cell_type": "code",
   "execution_count": null,
   "id": "78df595c",
   "metadata": {},
   "outputs": [],
   "source": [
    "# Import the data set.\n",
    "df_test = pd.read_csv('loyalty_club.csv')\n",
    "\n",
    "# View the DataFrame.\n",
    "df_test.head()"
   ]
  },
  {
   "cell_type": "markdown",
   "id": "a2b6ccab",
   "metadata": {},
   "source": [
    "## 3. Define the variables"
   ]
  },
  {
   "cell_type": "code",
   "execution_count": null,
   "id": "d95605e9",
   "metadata": {},
   "outputs": [],
   "source": [
    "# Dependent variable.\n",
    "y = df_test[\"Yearly Amount Spent\"] \n",
    "\n",
    "# Independent variable.\n",
    "X = df_test[\"Length of Membership\"]\n",
    "\n",
    "# Check for linearity.\n",
    "plt.scatter(X,y)"
   ]
  },
  {
   "cell_type": "markdown",
   "id": "f90d0c31",
   "metadata": {},
   "source": [
    "## 4. Run an OLS test"
   ]
  },
  {
   "cell_type": "code",
   "execution_count": null,
   "id": "d42e4559",
   "metadata": {},
   "outputs": [],
   "source": [
    "# Run the OLS test.\n",
    "f = 'y ~ X'\n",
    "test = ols(f, data = df_test).fit()\n",
    "\n",
    "# View the output.\n",
    "test.summary()"
   ]
  },
  {
   "cell_type": "markdown",
   "id": "1de927cd",
   "metadata": {},
   "source": [
    "> What does the summary indicates?\n",
    "> - $R^2$: 65% of the total variability of `y` (money spent by customers), is explained by the variability of `X` (how long they have been a member).  \n",
    "> - F-stat: If the probability of F stat. is smaller than a threshold (usually 0.05), the set of variables of the regression model are significant, else, the regression is not good. For simple regression model, the `t`-statistic is equivalent.\n",
    "> - `X`: The coefficient of `X` describes the slope of the regression line, in other words, how much the response variable `y` change when `X` changes by 1 unit. In this activity, if the length that the customer has been a member (`X`) changes by 1 unit (please check units used) the money spent (`y`) will change by 64.2187 units. \n",
    ">  - The `t`-value tests the hypothesis that the slope is significant or not. If the corresponding probability is small (typically smaller than 0.05) the slope is significant. In this case, the probability of the t-value is zero, thus the estimated slope is significant. \n",
    ">   - The last two numbers describe the 95% confidence interval of the true xcoefficient, i.e. the true slope. For instance, if you take a different sample, the estimated slope will be slightly different. If you take 100 random samples each of 500 observations of `X` and `y`, then 95 out of the 100 samples will derive a slope that is within the interval (60.112 , 68.326).\n",
    ">   - In case of a multivariate regression model, each explanatory variable will have a separate row with the above information. So we will need to check which of the variables are significant, remove the ones that are not significant and then re-run the new regression model."
   ]
  },
  {
   "cell_type": "markdown",
   "id": "971e7c36",
   "metadata": {},
   "source": [
    "## 5. Create linear equation"
   ]
  },
  {
   "cell_type": "code",
   "execution_count": null,
   "id": "99ef8409",
   "metadata": {},
   "outputs": [],
   "source": [
    "# x coef: 64.2187.\n",
    "# Constant coef: 272.3998.\n",
    "# Create the linear equation.\n",
    "y_pred = 272.3998 + 64.2187 * X\n",
    "\n",
    "# View the output.\n",
    "y_pred"
   ]
  },
  {
   "cell_type": "markdown",
   "id": "31d7d744",
   "metadata": {},
   "source": [
    "## 6. Plot the regression"
   ]
  },
  {
   "cell_type": "code",
   "execution_count": null,
   "id": "0380b297",
   "metadata": {},
   "outputs": [],
   "source": [
    "# Plot the data points.\n",
    "plt.scatter(X, y)\n",
    "\n",
    "# Plot the line.\n",
    "plt.plot(X, y_pred, color='black')"
   ]
  },
  {
   "cell_type": "code",
   "execution_count": null,
   "id": "838003e8",
   "metadata": {},
   "outputs": [],
   "source": []
  }
 ],
 "metadata": {
  "kernelspec": {
   "display_name": "Python 3 (ipykernel)",
   "language": "python",
   "name": "python3"
  },
  "language_info": {
   "codemirror_mode": {
    "name": "ipython",
    "version": 3
   },
   "file_extension": ".py",
   "mimetype": "text/x-python",
   "name": "python",
   "nbconvert_exporter": "python",
   "pygments_lexer": "ipython3",
   "version": "3.9.12"
  }
 },
 "nbformat": 4,
 "nbformat_minor": 5
}
