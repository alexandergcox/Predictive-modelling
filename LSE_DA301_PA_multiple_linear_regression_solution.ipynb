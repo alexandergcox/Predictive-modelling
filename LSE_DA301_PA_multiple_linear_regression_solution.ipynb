{
 "cells": [
  {
   "cell_type": "markdown",
   "id": "94199fa3",
   "metadata": {},
   "source": [
    "### LSE Data Analytics Online Career Accelerator \n",
    "# Course 301: Advanced Analytics for Organisational Impact"
   ]
  },
  {
   "cell_type": "markdown",
   "id": "46fcc342",
   "metadata": {},
   "source": [
    "## Practical activity: Conducting multiple linear regression using Python"
   ]
  },
  {
   "cell_type": "markdown",
   "id": "26969258",
   "metadata": {},
   "source": [
    "**This is the solution to the activity.**\n",
    "\n",
    "In MLR you are adding another variable (or two or three or more!) to the calculation when you run your regression. Most likely, in the real world, you’ll have more than two variables to deal with, so MLR allows you to handle this and find predictive results that can help your business grow. This activity will build on the simple linear regression practical exercise from earlier, but this time, there will be another variable to work with. \n",
    "\n",
    "The main objective is to run multiple linear regression on three variables to predict future median business values. You’ll need to divide the data into training and testing subsets and use these to test the model with OLS. You’ll also check for multicollinearity and homoscedasticity. "
   ]
  },
  {
   "cell_type": "markdown",
   "id": "e0ec3ed0",
   "metadata": {},
   "source": [
    "## 1. Prepare your workstation"
   ]
  },
  {
   "cell_type": "code",
   "execution_count": null,
   "id": "19b7bc2c",
   "metadata": {},
   "outputs": [],
   "source": [
    "# Import all the necessary packages.\n",
    "import numpy as np\n",
    "import pandas as pd\n",
    "import statsmodels.api as sm\n",
    "import statsmodels.stats.api as sms\n",
    "import sklearn\n",
    "import matplotlib.pyplot as plt\n",
    "\n",
    "from sklearn import linear_model\n",
    "from statsmodels.stats.outliers_influence import variance_inflation_factor\n",
    "from sklearn.model_selection import train_test_split\n",
    "from sklearn import metrics\n",
    "from sklearn.linear_model import LinearRegression\n",
    "from statsmodels.formula.api import ols\n",
    "\n",
    "import warnings  \n",
    "warnings.filterwarnings('ignore')  "
   ]
  },
  {
   "cell_type": "markdown",
   "id": "8a657692",
   "metadata": {},
   "source": [
    "## 2. Import data set"
   ]
  },
  {
   "cell_type": "code",
   "execution_count": null,
   "id": "78df595c",
   "metadata": {},
   "outputs": [],
   "source": [
    "# Import the data set.\n",
    "df_ecom = pd.read_csv('ecommerce_data.csv')\n",
    "\n",
    "# View the DataFrame.\n",
    "df_ecom.head()"
   ]
  },
  {
   "cell_type": "code",
   "execution_count": null,
   "id": "24a6103b",
   "metadata": {},
   "outputs": [],
   "source": [
    "# View the metadata.\n",
    "df_ecom.info()"
   ]
  },
  {
   "cell_type": "markdown",
   "id": "a2b6ccab",
   "metadata": {},
   "source": [
    "## 3 Define variables"
   ]
  },
  {
   "cell_type": "code",
   "execution_count": null,
   "id": "d95605e9",
   "metadata": {},
   "outputs": [],
   "source": [
    "# Define the dependent variable.\n",
    "y = df_ecom['Median_s'] \n",
    "\n",
    "# Define the independent variable.\n",
    "X = df_ecom[['avg_no_it', 'tax']] "
   ]
  },
  {
   "cell_type": "code",
   "execution_count": null,
   "id": "098a8711",
   "metadata": {},
   "outputs": [],
   "source": [
    "# Specify the model.\n",
    "multi = LinearRegression()  \n",
    "\n",
    "# Fit the model.\n",
    "multi.fit(X, y)"
   ]
  },
  {
   "cell_type": "code",
   "execution_count": null,
   "id": "a3910080",
   "metadata": {
    "scrolled": true
   },
   "outputs": [],
   "source": [
    "# Call the predictions for X (array).\n",
    "multi.predict(X)"
   ]
  },
  {
   "cell_type": "code",
   "execution_count": null,
   "id": "b0779f6f",
   "metadata": {},
   "outputs": [],
   "source": [
    "# Checking the value of R-squared, intercept and coefficients.\n",
    "print(\"R-squared: \", multi.score(X, y))\n",
    "print(\"Intercept: \", multi.intercept_)\n",
    "print(\"Coefficients:\")\n",
    "\n",
    "list(zip(X, multi.coef_))"
   ]
  },
  {
   "cell_type": "code",
   "execution_count": null,
   "id": "0ce6d207",
   "metadata": {},
   "outputs": [],
   "source": [
    "# Make predictions.\n",
    "New_Value1 = 5.75\n",
    "New_Value2 = 15.2\n",
    "print ('Predicted Value: \\n', multi.predict([[New_Value1 ,New_Value2]]))  "
   ]
  },
  {
   "cell_type": "markdown",
   "id": "965439bd",
   "metadata": {},
   "source": [
    "## 4. Training and testing subsets with MLR"
   ]
  },
  {
   "cell_type": "code",
   "execution_count": null,
   "id": "0ca0c807",
   "metadata": {},
   "outputs": [],
   "source": [
    "# Create train and test data sets.\n",
    "x_train, x_test, y_train, y_test = train_test_split(X, y,\n",
    "                                                    test_size=0.2,\n",
    "                                                    random_state=42)"
   ]
  },
  {
   "cell_type": "code",
   "execution_count": null,
   "id": "861dabc2",
   "metadata": {},
   "outputs": [],
   "source": [
    "# Training the model using the 'statsmodel' OLS library.\n",
    "# Fit the model with the added constant.\n",
    "model = sm.OLS(y_train, sm.add_constant(x_train)).fit()\n",
    "\n",
    "# Set the predicted response vector.\n",
    "Y_pred = model.predict(sm.add_constant(x_test)) \n",
    "\n",
    "# Call a summary of the model.\n",
    "print_model = model.summary()\n",
    "\n",
    "# Print the summary.\n",
    "print(print_model)  "
   ]
  },
  {
   "cell_type": "code",
   "execution_count": null,
   "id": "ab30e73f",
   "metadata": {},
   "outputs": [],
   "source": [
    "print(multi.score(x_train, y_train)*100)"
   ]
  },
  {
   "cell_type": "markdown",
   "id": "8ea232d4",
   "metadata": {},
   "source": [
    "## 5. Run a regression test"
   ]
  },
  {
   "cell_type": "code",
   "execution_count": null,
   "id": "35104399",
   "metadata": {},
   "outputs": [],
   "source": [
    "# Run regression on the train subset.\n",
    "mlr = LinearRegression()  \n",
    "\n",
    "mlr.fit(x_train, y_train)"
   ]
  },
  {
   "cell_type": "code",
   "execution_count": null,
   "id": "3acec206",
   "metadata": {},
   "outputs": [],
   "source": [
    "# Call the predictions for X in the train set.\n",
    "y_pred_mlr = mlr.predict(x_train)  \n",
    "\n",
    "# Print the predictions.\n",
    "print(\"Prediction for test set: {}\".format(y_pred_mlr)) "
   ]
  },
  {
   "cell_type": "code",
   "execution_count": null,
   "id": "5b4f71fd",
   "metadata": {},
   "outputs": [],
   "source": [
    "# Print the R-squared value.\n",
    "print(mlr.score(x_test, y_test)*100)  "
   ]
  },
  {
   "cell_type": "markdown",
   "id": "5ce6b7ed",
   "metadata": {},
   "source": [
    "# 6. Check for multicollinearity"
   ]
  },
  {
   "cell_type": "code",
   "execution_count": null,
   "id": "91d58b3b",
   "metadata": {},
   "outputs": [],
   "source": [
    "# Check multicollinearity.\n",
    "x_temp = sm.add_constant(x_train)\n",
    "\n",
    "# Create an empty DataFrame. \n",
    "vif = pd.DataFrame()\n",
    "\n",
    "# Calculate the VIF for each value.\n",
    "vif['VIF Factor'] = [variance_inflation_factor(x_temp.values,\n",
    "                                               i) for i in range(x_temp.values.shape[1])]\n",
    "\n",
    "# Create the feature columns.\n",
    "vif['features'] = x_temp.columns\n",
    "\n",
    "# Print the values to one decimal points.\n",
    "print(vif.round(1))"
   ]
  },
  {
   "cell_type": "code",
   "execution_count": null,
   "id": "52d60fc8",
   "metadata": {},
   "outputs": [],
   "source": [
    "# Determine heteroscedasticity.\n",
    "model = sms.het_breuschpagan(model.resid, model.model.exog) "
   ]
  },
  {
   "cell_type": "code",
   "execution_count": null,
   "id": "c945280e",
   "metadata": {},
   "outputs": [],
   "source": [
    "terms = ['LM stat', 'LM Test p-value', 'F-stat', 'F-test p-value']\n",
    "print(dict(zip(terms, model)))"
   ]
  },
  {
   "cell_type": "markdown",
   "id": "f54ddd2d",
   "metadata": {},
   "source": [
    "`Note:` We always fit the model to train data and evaluate the performance of the model using the test data. We predict the test data and compare the predictions with actual test values.\n",
    "- rerun the model on the test data and jot down your observation."
   ]
  },
  {
   "cell_type": "markdown",
   "id": "b28fe423",
   "metadata": {},
   "source": [
    "# 7. Evaluate the model"
   ]
  },
  {
   "cell_type": "code",
   "execution_count": null,
   "id": "910aea8d",
   "metadata": {},
   "outputs": [],
   "source": [
    "# Call the metrics.mean_absolute_error function.  \n",
    "print('Mean Absolute Error (Final):', metrics.mean_absolute_error(y_test, Y_pred))  \n",
    "\n",
    "# Call the metrics.mean_squared_error function.\n",
    "print('Mean Square Error (Final):', metrics.mean_squared_error(y_test, Y_pred))  "
   ]
  },
  {
   "cell_type": "code",
   "execution_count": null,
   "id": "6ca2fd92",
   "metadata": {},
   "outputs": [],
   "source": []
  }
 ],
 "metadata": {
  "kernelspec": {
   "display_name": "Python 3 (ipykernel)",
   "language": "python",
   "name": "python3"
  },
  "language_info": {
   "codemirror_mode": {
    "name": "ipython",
    "version": 3
   },
   "file_extension": ".py",
   "mimetype": "text/x-python",
   "name": "python",
   "nbconvert_exporter": "python",
   "pygments_lexer": "ipython3",
   "version": "3.9.12"
  }
 },
 "nbformat": 4,
 "nbformat_minor": 5
}
